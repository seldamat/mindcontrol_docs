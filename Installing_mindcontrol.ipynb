{
 "cells": [
  {
   "cell_type": "markdown",
   "metadata": {
    "deletable": true,
    "editable": true
   },
   "source": [
    "# Setting Up Your Own Mindcontrol Instance\n",
    "\n",
    "## Installing Mindcontrol"
   ]
  },
  {
   "cell_type": "markdown",
   "metadata": {
    "deletable": true,
    "editable": true
   },
   "source": [
    "1. Install meteor\n",
    "\n",
    "    ```bash\n",
    "    curl https://install.meteor.com/ | sh\n",
    "    ```\n",
    "\n",
    "2. Clone mindcontrol\n",
    "\n",
    "    ```bash\n",
    "    git clone https://github.com/akeshavan/mindcontrol.git\n",
    "    ```\n",
    "\n",
    "3. Start the server\n",
    "\n",
    "    ```bash\n",
    "    cd mindcontrol\n",
    "    meteor\n",
    "    ```\n",
    "    \n",
    "    Leave this running in your terminal window.\n",
    "\n",
    "4. Navigate to http://localhost:3000 in your chrome browser.\n",
    "You should see the default entries loaded into the mindcontrol database. It should look like:\n",
    "\n",
    "    ![](images/mindcontrol_install_init.png)\n",
    "\n",
    "\n"
   ]
  },
  {
   "cell_type": "markdown",
   "metadata": {
    "deletable": true,
    "editable": true
   },
   "source": [
    "Here we see the \"Exams\" and \"Freesurfer\" modules. We are going to add a new module called \"Test\". First, we need to prepare our data"
   ]
  },
  {
   "cell_type": "markdown",
   "metadata": {
    "deletable": true,
    "editable": true
   },
   "source": [
    "## Preparing and Serving Data"
   ]
  },
  {
   "cell_type": "markdown",
   "metadata": {
    "deletable": true,
    "editable": true
   },
   "source": [
    "### Data organization\n",
    "\n",
    "Make sure your data has a consistent organization structure.  Your base directory should look like:\n",
    "    \n",
    "    /base/directory\n",
    "             |___ sub-01\n",
    "                   |___ anat\n",
    "                         |___ sub-01_T1w.nii.gz\n",
    "             |___ sub-02\n",
    "                   |___ anat\n",
    "                         |___ sub-01_T1w.nii.gz\n",
    "             |___ sub-03\n",
    "                   |___ anat\n",
    "                         |___ sub-01_T1w.nii.gz\n",
    "    "
   ]
  },
  {
   "cell_type": "markdown",
   "metadata": {
    "deletable": true,
    "editable": true
   },
   "source": [
    "This is the BIDS data organization, and you can find example at https://github.com/INCF/BIDS-examples. Pay close attention to you **`/base/directory`** -- this is where we will start a static server"
   ]
  },
  {
   "cell_type": "markdown",
   "metadata": {
    "deletable": true,
    "editable": true
   },
   "source": [
    "### Starting a static server"
   ]
  },
  {
   "cell_type": "markdown",
   "metadata": {
    "deletable": true,
    "editable": true
   },
   "source": [
    "In your **`/base/directory`**, create a file called **`start_static_server.py`**. Copy/paste the following into the file:\n",
    "\n",
    "```python\n",
    "#!/usr/bin/env python\n",
    "import http.server\n",
    "import os\n",
    "\n",
    "class MyHTTPRequestHandler(http.server.SimpleHTTPRequestHandler):\n",
    "    def end_headers(self):\n",
    "        self.send_header(\"Access-Control-Allow-Origin\", \"*\")\n",
    "        http.server.SimpleHTTPRequestHandler.end_headers(self)\n",
    "\n",
    "if __name__ == '__main__':\n",
    "        http.server.test(HandlerClass=MyHTTPRequestHandler, port=3002)\n",
    "```\n",
    "\n",
    "`cd` to **`/base/directory`** and run the static server:\n",
    "\n",
    "```bash\n",
    "python start_static_server.py\n",
    "```\n",
    "\n",
    "To test that it works, in your browser navigate to http://localhost:3002. You should see your directory structure. Keep this running in a terminal window."
   ]
  },
  {
   "cell_type": "markdown",
   "metadata": {
    "deletable": true,
    "editable": true
   },
   "source": [
    "### Loading entries to the Mongo Database"
   ]
  },
  {
   "cell_type": "markdown",
   "metadata": {
    "deletable": true,
    "editable": true
   },
   "source": [
    "In your **`/base/directory`**, create a file called **`load_test_entries.py`**. Copy/paste the following into the file:\n",
    "\n",
    "\n",
    "```python\n",
    "#!/usr/bin/env python\n",
    "from glob import glob\n",
    "import numpy as np\n",
    "\n",
    "def get_collection(port=3001):\n",
    "    from pymongo import MongoClient\n",
    "    client = MongoClient(\"localhost\", port)\n",
    "    db =  client.meteor\n",
    "    collection = db.subjects\n",
    "    return collection, client\n",
    "\n",
    "coll, cli = get_collection()\n",
    "files = glob(\"sub*/anat/sub*_T1w.nii.gz\")\n",
    "\n",
    "for f in files:\n",
    "    entry = {\"entry_type\":\"test\", # this is what we use to filter items into different tables in the UI. Instead of test, you can give it a meaningful name, like \"raw_data\" or \"segmentation_file\"\n",
    "             \"metrics\":{\"GMV\": np.random.rand()*100, #these are random numbers, but you could load whatever you want here\n",
    "             \"WMV\": np.random.rand()*100}}\n",
    "    Sid = f.split('/')[0] #getting subject ID from the filename\n",
    "    entry[\"subject_id\"] = Sid\n",
    "    entry[\"name\"] = Sid\n",
    "    entry[\"check_masks\"] = [f] #list of paths to files relative to /base/directory\n",
    "    coll.insert_one(entry) #finally, insert an entry to the mongo database\n",
    "\n",
    "```\n",
    "\n",
    "Run the python file to load data:\n",
    "```bash\n",
    "cd /base/directory\n",
    "python load_test_entries.py\n",
    "```"
   ]
  },
  {
   "cell_type": "markdown",
   "metadata": {
    "deletable": true,
    "editable": true
   },
   "source": [
    "## Adding a New Module to Mindcontrol\n",
    "Modules are groupings of similar data that can be used to filter and organize subjects for editing. For example, all data that has been processed by FreeSurfer will appear in the FreeSurfer module. You can find all modules at the top left of the Mindcontrol home window ::\n",
    "\n",
    "![](images/mindcontrol_install_init_annot.png)"
   ]
  },
  {
   "cell_type": "markdown",
   "metadata": {
    "deletable": true,
    "editable": true
   },
   "source": [
    "Each module is defined in the `mindcontrol/private/generator.json` file. We will focus only on the the `\"modules\"` key/value pair in this file. (The example below is commented, but the actual **JSON file does not support commenting**)\n",
    "\n",
    "```javascript\n",
    "\n",
    "{\n",
    "  \"modules\": [\n",
    "  {\"name\": \"Exams\", // Title of the table\n",
    "    \"entry_type\": \"demographic\", // database entries to display in the table\n",
    "  \"fields\": [ //list of dictionaries that describe each column of the table in order\n",
    "    {\"function_name\": \"get_filter_field\", // describes what happens when an entry is clicked. In this case, it is filtered\n",
    "      \"id\": \"msid\", // the name of the MongoDB field to display (in this case, its the MRI Subject ID (msid)\n",
    "      \"name\": \"msid\" // column name to display\n",
    "    },\n",
    "   ... // more dictionaries follow\n",
    "  ],\n",
    "  \"graph_type\":\"datehist\", // type of graph to display (options: datehist or histogram)\n",
    "  \"showgraph\": true}, //whether or not to show the graph (it can be collapsed if set to false)\n",
    "    {\n",
    "      \"name\": \"Freesurfer\",\n",
    "      \"entry_type\": \"freesurfer\",\n",
    "      \"fields\": [\n",
    "        {\n",
    "          \"function_name\": \"get_filter_field\",\n",
    "          \"id\": \"subject_id\", //in this mindcontrol instance, the subject id is a combo of the subject_id & exam id since this value must be unique\n",
    "          \"name\": \"Exam ID\"\n",
    "        },\n",
    "        {\n",
    "          \"function_name\": \"get_qc_viewer\", // when the Freesurfer ID is clicked, show the QC viewer\n",
    "          \"id\": \"name\", // the Mongo database should have a \"name\" entry \n",
    "          \"name\": \"Freesurfer ID\"\n",
    "        },\n",
    "        {\n",
    "          \"function_name\": \"get_qc_filter_field\", // when a QC tag is clicked, filter by the QC status\n",
    "          \"id\": \"quality_check.QC\",\n",
    "          \"name\": \"QC\"\n",
    "        },\n",
    "        ...\n",
    "        {\n",
    "          \"function_name\": null, // do nothing for this column field\n",
    "          \"id\": \"quality_check.notes_QC\",\n",
    "          \"name\": \"Notes\"\n",
    "        }\n",
    "      ],\n",
    "      \"graph_type\": \"histogram\", //the 1D hisgrogram of metrics\n",
    "      \"colormaps\": { //this dictionary describes how to load the colormaps of the images\n",
    "        \"0\":{\"name\": \"Grayscale\",\n",
    "            \"alpha\": 1,\n",
    "            \"min\": 0,\n",
    "            \"max\": 255\n",
    "        },\n",
    "        \"1\": {\n",
    "          \"name\": \"custom.Freesurfer\", //this is the Freesurfer colormap\n",
    "          \"alpha\": 0.5\n",
    "        }\n",
    "      },\n",
    "      \"staticURL\": \"https://dl.dropboxusercontent.com/u/9020198/data/\", //this is the base directory where images are served\n",
    "      \"usePeerJS\": false //ignore this for now\n",
    "    }\n",
    "]}\n",
    "```"
   ]
  },
  {
   "cell_type": "markdown",
   "metadata": {
    "deletable": true,
    "editable": true
   },
   "source": [
    "Lets add a UI component for our \"test\" entries after the \"freesurfer\" entry:\n",
    "\n",
    "```javascript\n",
    "      \"staticURL\": \"https://dl.dropboxusercontent.com/u/9020198/data/\",\n",
    "      \"usePeerJS\": false //ignore this for now\n",
    "    }, // remember to add a comma here\n",
    "    //copy/paste below:\n",
    "{\n",
    "      \"name\": \"Test\",\n",
    "      \"entry_type\": \"test\",\n",
    "      \"fields\": [\n",
    "        {\n",
    "          \"function_name\": \"get_filter_field\",\n",
    "          \"id\": \"subject_id\",\n",
    "          \"name\": \"Exam ID\"\n",
    "        },\n",
    "        {\n",
    "          \"function_name\": \"get_qc_viewer\",\n",
    "          \"id\": \"name\",\n",
    "          \"name\": \"View Image\"\n",
    "        },\n",
    "        {\n",
    "          \"function_name\": \"get_qc_filter_field\",\n",
    "          \"id\": \"quality_check.QC\",\n",
    "          \"name\": \"QC\"\n",
    "        },\n",
    "        {\n",
    "          \"function_name\": \"get_filter_field\",\n",
    "          \"id\": \"checkedBy\",\n",
    "          \"name\": \"checked by\"\n",
    "        },\n",
    "        {\n",
    "          \"function_name\": \"get_filter_field\",\n",
    "          \"id\": \"quality_check.user_assign\",\n",
    "          \"name\": \"Assigned To\"\n",
    "        },\n",
    "        {\n",
    "          \"function_name\": null,\n",
    "          \"id\": \"quality_check.notes_QC\",\n",
    "          \"name\": \"Notes\"\n",
    "        }\n",
    "      ],\n",
    "      \"graph_type\": \"histogram\",\n",
    "      \"staticURL\": \"http://localhost:3002/\",\n",
    "      \"usePeerJS\": false\n",
    "    }\n",
    "    //end copy/paste\n",
    "]}\n",
    "\n",
    "```"
   ]
  },
  {
   "cell_type": "markdown",
   "metadata": {
    "deletable": true,
    "editable": true
   },
   "source": [
    "Note how we've set the staticURL field to the port of our static server:\n",
    "\n",
    "```javascript\n",
    "{\n",
    "\"staticURL\": \"http://localhost:3002/\"\n",
    "}\n",
    "```\n",
    "If your data is hosted on Dropbox or S3, change this URL. Next, \n",
    "\n",
    "```bash\n",
    "cd mindcontrol/imports/python_generate\n",
    "```\n",
    "\n",
    "and run:\n",
    "\n",
    "```bash\n",
    "python generate_mindcontrol.py\n",
    "```\n",
    "\n",
    "Navigate to localhost:3000 once again, and see how a new module (named Test) has been added. Click on an entry in the \"View Image\" column to load the QC viewer."
   ]
  },
  {
   "cell_type": "markdown",
   "metadata": {
    "deletable": true,
    "editable": true
   },
   "source": [
    "![](images/mindcontrol_with_test_module.png)"
   ]
  },
  {
   "cell_type": "markdown",
   "metadata": {
    "deletable": true,
    "editable": true
   },
   "source": [
    "Click on an entry in the View Image column, and you should see the QC viewer load. Remember to sign in before annotating!"
   ]
  },
  {
   "cell_type": "markdown",
   "metadata": {
    "deletable": true,
    "editable": true
   },
   "source": [
    "![](images/signin_page.png)"
   ]
  },
  {
   "cell_type": "markdown",
   "metadata": {
    "deletable": true,
    "editable": true
   },
   "source": [
    "Shift+click to annotate a point, and hit \"Save\"\n",
    "\n",
    "![](images/point_annot.png)\n",
    "\n",
    "Next we will grab the x,y,z coordinates of this annotation and plot it"
   ]
  },
  {
   "cell_type": "code",
   "execution_count": 1,
   "metadata": {
    "collapsed": true,
    "deletable": true,
    "editable": true
   },
   "outputs": [],
   "source": [
    "# Use this function to get access to the mindcontrol mongo database entries\n",
    "def get_collection(port=3001):\n",
    "    from pymongo import MongoClient\n",
    "    client = MongoClient(\"localhost\", port)\n",
    "    db =  client.meteor\n",
    "    collection = db.subjects\n",
    "    return collection, client"
   ]
  },
  {
   "cell_type": "code",
   "execution_count": 2,
   "metadata": {
    "collapsed": true,
    "deletable": true,
    "editable": true
   },
   "outputs": [],
   "source": [
    "coll, cli = get_collection()"
   ]
  },
  {
   "cell_type": "code",
   "execution_count": 3,
   "metadata": {
    "collapsed": false,
    "deletable": true,
    "editable": true
   },
   "outputs": [
    {
     "data": {
      "text/plain": [
       "{'_id': ObjectId('58e3e3b9d09d334fd518110d'),\n",
       " 'check_masks': ['sub-01/anat/sub-01_T1w.nii.gz'],\n",
       " 'checkedAt': datetime.datetime(2017, 4, 4, 18, 35, 26, 706000),\n",
       " 'checkedBy': 'anisha',\n",
       " 'contours': [],\n",
       " 'entry_type': 'test',\n",
       " 'loggedPoints': [{'checkedBy': 'anisha',\n",
       "   'matrix_coor': {'x': 122.12844036697248, 'y': 49.467297993876976, 'z': 101},\n",
       "   'note': 'test',\n",
       "   'uuid': '08387f41-a2e7-c6d3-a1db-d8a4f3c76ab4',\n",
       "   'world_coor': {'x': -6.251544525553783,\n",
       "    'y': 51.88812322234088,\n",
       "    'z': -17.075543789832125}}],\n",
       " 'metrics': {'GMV': 95.69133269312357, 'WMV': 78.69580030146265},\n",
       " 'name': 'sub-01',\n",
       " 'painters': [],\n",
       " 'quality_check': {'QC': '3', 'notes_QC': ''},\n",
       " 'subject_id': 'sub-01'}"
      ]
     },
     "execution_count": 3,
     "metadata": {},
     "output_type": "execute_result"
    }
   ],
   "source": [
    "annot_entry = coll.find_one({\"subject_id\":\"sub-01\"})\n",
    "annot_entry"
   ]
  },
  {
   "cell_type": "markdown",
   "metadata": {
    "collapsed": false,
    "deletable": true,
    "editable": true
   },
   "source": [
    "our world coordinates are in "
   ]
  },
  {
   "cell_type": "code",
   "execution_count": 4,
   "metadata": {
    "collapsed": false,
    "deletable": true,
    "editable": true
   },
   "outputs": [
    {
     "data": {
      "text/plain": [
       "{'x': -6.251544525553783, 'y': 51.88812322234088, 'z': -17.075543789832125}"
      ]
     },
     "execution_count": 4,
     "metadata": {},
     "output_type": "execute_result"
    }
   ],
   "source": [
    "annot_entry[\"loggedPoints\"][0][\"world_coor\"]"
   ]
  },
  {
   "cell_type": "markdown",
   "metadata": {
    "deletable": true,
    "editable": true
   },
   "source": [
    "Plot the same annotation in Python using nilearn"
   ]
  },
  {
   "cell_type": "code",
   "execution_count": 5,
   "metadata": {
    "collapsed": false,
    "deletable": true,
    "editable": true
   },
   "outputs": [
    {
     "name": "stdout",
     "output_type": "stream",
     "text": [
      "Populating the interactive namespace from numpy and matplotlib\n"
     ]
    }
   ],
   "source": [
    "from nilearn.plotting import plot_anat\n",
    "%pylab inline"
   ]
  },
  {
   "cell_type": "code",
   "execution_count": 6,
   "metadata": {
    "collapsed": false,
    "deletable": true,
    "editable": true
   },
   "outputs": [
    {
     "data": {
      "text/plain": [
       "<nilearn.plotting.displays.OrthoSlicer at 0x117513358>"
      ]
     },
     "execution_count": 6,
     "metadata": {},
     "output_type": "execute_result"
    },
    {
     "data": {
      "image/png": "[encoded data removed]",
      "text/plain": [
       "<matplotlib.figure.Figure at 0x1141d25c0>"
      ]
     },
     "metadata": {},
     "output_type": "display_data"
    }
   ],
   "source": [
    "world_coords = [annot_entry[\"loggedPoints\"][0][\"world_coor\"][\"x\"], \n",
    "                annot_entry[\"loggedPoints\"][0][\"world_coor\"][\"y\"],\n",
    "                annot_entry[\"loggedPoints\"][0][\"world_coor\"][\"z\"]]\n",
    "fig, ax = subplots(1,1,figsize=(10,4))\n",
    "plot_anat(\"mindcontrol_base_dir/sub-01/anat/sub-01_T1w.nii.gz\", \n",
    "          cut_coords=world_coords, axes=ax)"
   ]
  },
  {
   "cell_type": "markdown",
   "metadata": {
    "collapsed": true,
    "deletable": true,
    "editable": true
   },
   "source": [
    "You can also convert the world-coordinates to matrix indices using nibabel"
   ]
  },
  {
   "cell_type": "code",
   "execution_count": 9,
   "metadata": {
    "collapsed": true,
    "deletable": true,
    "editable": true
   },
   "outputs": [],
   "source": [
    "import nibabel as nib\n",
    "img = nib.load(\"mindcontrol_base_dir/sub-01/anat/sub-01_T1w.nii.gz\")\n",
    "data, aff = img.get_data(), img.affine"
   ]
  },
  {
   "cell_type": "code",
   "execution_count": 14,
   "metadata": {
    "collapsed": false,
    "deletable": true,
    "editable": true
   },
   "outputs": [
    {
     "data": {
      "text/plain": [
       "array([ 123.,  104.,  149.])"
      ]
     },
     "execution_count": 14,
     "metadata": {},
     "output_type": "execute_result"
    }
   ],
   "source": [
    "np.round(np.linalg.inv(aff) @ np.asarray(world_coords + [1]))[:3]"
   ]
  },
  {
   "cell_type": "markdown",
   "metadata": {
    "deletable": true,
    "editable": true
   },
   "source": [
    "The intensity value at this point is:"
   ]
  },
  {
   "cell_type": "code",
   "execution_count": 15,
   "metadata": {
    "collapsed": false,
    "deletable": true,
    "editable": true
   },
   "outputs": [
    {
     "data": {
      "text/plain": [
       "588.0"
      ]
     },
     "execution_count": 15,
     "metadata": {},
     "output_type": "execute_result"
    }
   ],
   "source": [
    "data[124, 104, 149]"
   ]
  },
  {
   "cell_type": "markdown",
   "metadata": {
    "deletable": true,
    "editable": true
   },
   "source": [
    "**Reccomendation:** Make sure that image affine does not have rotations for voxel painting to work. Clicking on this button at the top right: ![](images/world_icon.png) or ![](images/index_icon.png) should not change the image orientation. One way to ensure this is the case is to **rigidly register your image to MNI space**"
   ]
  },
  {
   "cell_type": "markdown",
   "metadata": {
    "deletable": true,
    "editable": true
   },
   "source": [
    "## Conclusion\n",
    "\n",
    "This tutorial explained the basics of configuring Mindcontrol for your own data, and then extracting annotations from the mindcontrol database. For more information, see other tutorials:\n",
    "\n",
    "* [Using the MongoDB Shell](http://nbviewer.jupyter.org/github/akeshavan/mindcontrol_docs/blob/master/Mindcontrol_Mongo_shell_explained.ipynb)\n",
    "* [Mindcontrol & Pipeline for Freesurfer Editing](http://nbviewer.jupyter.org/github/akeshavan/mindcontrol_docs/blob/master/MindPrepFS.ipynb)"
   ]
  },
  {
   "cell_type": "code",
   "execution_count": null,
   "metadata": {
    "collapsed": true
   },
   "outputs": [],
   "source": []
  }
 ],
 "metadata": {
  "kernelspec": {
   "display_name": "Python 3",
   "language": "python",
   "name": "python3"
  },
  "language_info": {
   "codemirror_mode": {
    "name": "ipython",
    "version": 3
   },
   "file_extension": ".py",
   "mimetype": "text/x-python",
   "name": "python",
   "nbconvert_exporter": "python",
   "pygments_lexer": "ipython3",
   "version": "3.5.2"
  }
 },
 "nbformat": 4,
 "nbformat_minor": 2
}
