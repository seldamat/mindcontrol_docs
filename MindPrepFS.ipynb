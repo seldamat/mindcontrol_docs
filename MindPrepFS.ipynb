{
 "cells": [
  {
   "cell_type": "markdown",
   "metadata": {},
   "source": [
    "# Setting up Mindcontrol to QC Freesurfer Outputs\n",
    "\n",
    "This tutorial will set up a Mindcontrol instance for Freesurfer output QC. The first step is to clone the Mindcontrol repository from GitHub and checkout the FreeSurfer branch:\n",
    "\n",
    "```bash\n",
    "git clone https://github.com/akeshavan/mindcontrol\n",
    "cd mindcontrol\n",
    "git checkout origin/FreeSurfer\n",
    "```\n",
    "\n",
    "Then start Mindcontrol by typing `meteor` in the mindcontrol directory:\n",
    "\n",
    "```bash\n",
    "meteor\n",
    "```\n",
    "\n",
    "Also, start the static server in another terminal window:\n",
    "\n",
    "```bash\n",
    "cd mindcontrol_docs/mindcontrol_base_dir\n",
    "python start_static_server.py\n",
    "```\n",
    "\n",
    "Navigate to http://localhost:3000, you should see an empty Mindcontrol UI:\n",
    "\n",
    "![](images/freesurfer_empty_instance.png)"
   ]
  },
  {
   "cell_type": "markdown",
   "metadata": {
    "deletable": true,
    "editable": true
   },
   "source": [
    "## Import FreeSurfer Subjects Directory Into Mindcontrol\n",
    "\n",
    "Freesurfer writes data in `.mgz` format, but Mindcontrol's Papaya.js viewer can only read `.nii.gz` files. We also want to split up the different parts of FreeSurfer QC (brain mask editing, wm edits, and aparc+aseg edits) into 3 sections, as shown in the empty Mindcontrol instance above. This workflow reads all the folders in the `SUBJECTS_DIR` of Freesurfer, converts all volumetric data from `.mgz` into `.nii.gz`, and parses stats files to display as histograms on the mindcontrol interface.\n",
    "\n",
    "Lets say your directory structure looks like:\n",
    "\n",
    "```bash\n",
    "mindcontrol/ #(cloned from https://github.com/akeshavan/mindcontrol, checked out origin/FreeSurfer branch)\n",
    "\n",
    "mindcontrol_docs/ #(cloned from https://github.com/akeshavan/mindcontrol_docs)\n",
    "|___ MindPrepFS.ipynb #(this notebook)\n",
    "|___ mindcontrol_base_dir/\n",
    "     |___ start_static_server.py\n",
    "\n",
    "freesurfer_subjects_dir/\n",
    "|___ sub-01/\n",
    "    |___ mri/\n",
    "    |___ stats/\n",
    "    |___ surf/\n",
    "     ...\n",
    " ...\n",
    "```"
   ]
  },
  {
   "cell_type": "markdown",
   "metadata": {
    "deletable": true,
    "editable": true
   },
   "source": [
    "### Import necessary packages\n",
    "\n",
    "We recommend installing nipype through [Anaconda](https://www.continuum.io/downloads):\n",
    "\n",
    "```bash\n",
    "conda config --add channels conda-forge\n",
    "conda install -y nipype\n",
    "```\n",
    "\n",
    "Also make sure you have [FreeSurfer](https://www.google.com/webhp?sourceid=chrome-instant&ion=1&espv=2&ie=UTF-8#q=freesurfer+download&*) installed"
   ]
  },
  {
   "cell_type": "code",
   "execution_count": 110,
   "metadata": {
    "collapsed": false,
    "deletable": true,
    "editable": true
   },
   "outputs": [
    {
     "name": "stdout",
     "output_type": "stream",
     "text": [
      "Populating the interactive namespace from numpy and matplotlib\n"
     ]
    }
   ],
   "source": [
    "%pylab inline\n",
    "import os\n",
    "import os.path as op\n",
    "import nibabel as nb\n",
    "from glob import glob\n",
    "from IPython.display import Image\n",
    "from nipype import MapNode, Workflow, Node\n",
    "from nipype.interfaces.freesurfer import MRIConvert\n",
    "from nipype.interfaces.io import DataSink\n",
    "from nipype.interfaces.utility import IdentityInterface, Function\n",
    "from IPython.display import Image"
   ]
  },
  {
   "cell_type": "markdown",
   "metadata": {},
   "source": [
    "### Set your directories"
   ]
  },
  {
   "cell_type": "code",
   "execution_count": 2,
   "metadata": {
    "collapsed": true
   },
   "outputs": [],
   "source": [
    "# Set SUBJECTS_DIR, from Freesurfer\n",
    "subjects_dir = os.path.abspath(\"../data/ds000114/derivatives/freesurfer/\")\n",
    "\n",
    "# Set the directory to save converted Freesurfer outputs (ideally, the mindcontrol base dir)\n",
    "mindcontrol_base_dir = os.path.abspath(\"./mindcontrol_base_dir\") #this is where the static_server runs\n",
    "mindcontrol_outdir = os.path.abspath(\"./mindcontrol_base_dir/freesurfer\") \n",
    "\n",
    "# Set the directory where the nipype workflow saves intermediary files\n",
    "workflow_working_dir = os.path.abspath(\"./scratch\")"
   ]
  },
  {
   "cell_type": "markdown",
   "metadata": {},
   "source": [
    "After running this worflow, your directory structure will look like:\n",
    "\n",
    "```bash\n",
    "mindcontrol/ \n",
    "# you should be running \"meteor\" in a separate terminal window here\n",
    "\n",
    "mindcontrol_docs/ \n",
    "|___ MindPrepFS.ipynb \n",
    "|___ mindcontrol_base_dir/\n",
    "     |___ start_static_server.py\n",
    "          # you should be running start_static_server.py in a separate terminal window\n",
    "     |___ freesurfer/ #the workflow will create these files\n",
    "         |___ sub-01/\n",
    "             |___ T1.nii.gz\n",
    "             |___ aparc+aseg.nii.gz\n",
    "             |___ brainmask.nii.gz\n",
    "             |___ wm.nii.gz\n",
    "             |___ mindcontrol_entries.json\n",
    "|___ scratch/ #this is the nipype working directory\n",
    "\n",
    "freesurfer_subjects_dir/\n",
    "|___ sub-01/\n",
    "    |___ mri/\n",
    "    |___ stats/\n",
    "    |___ surf/\n",
    "     ...\n",
    " ...\n",
    "```"
   ]
  },
  {
   "cell_type": "markdown",
   "metadata": {
    "deletable": true,
    "editable": true
   },
   "source": [
    "### Find all subjects in the Freesurfer directory"
   ]
  },
  {
   "cell_type": "code",
   "execution_count": 21,
   "metadata": {
    "collapsed": false,
    "deletable": true,
    "editable": true
   },
   "outputs": [],
   "source": [
    "# Select subjects to prepare (this will do all inside the SUBJECTS_DIR)\n",
    "subject_paths = glob(op.join(subjects_dir, \"*\"))\n",
    "\n",
    "# SUBJECTS_DIR sometimes contains directories that aren't subjects, don't grab them\n",
    "\n",
    "subjects = []\n",
    "for path in subject_paths:\n",
    "    subject = path.split('/')[-1]\n",
    "    # check if mri dir exists, and don't add fsaverage\n",
    "    if op.exists(op.join(path, 'mri')) and subject != 'fsaverage':\n",
    "        subjects.append(subject)\n",
    "\n",
    "\n",
    "# Volumes that will be prepared\n",
    "volumes = [\"brainmask.mgz\", \"wm.mgz\", \"aparc+aseg.mgz\", \"T1.mgz\"]"
   ]
  },
  {
   "cell_type": "markdown",
   "metadata": {
    "deletable": true,
    "editable": true
   },
   "source": [
    "### Helper functions"
   ]
  },
  {
   "cell_type": "code",
   "execution_count": 22,
   "metadata": {
    "collapsed": false,
    "deletable": true,
    "editable": true
   },
   "outputs": [],
   "source": [
    "#this function finds data in the subjects_dir \n",
    "def data_grabber(subjects_dir, subject, volumes):\n",
    "    import os\n",
    "    volumes_list = [os.path.join(subjects_dir, subject, 'mri', volume) for volume in volumes]\n",
    "    return volumes_list"
   ]
  },
  {
   "cell_type": "code",
   "execution_count": 23,
   "metadata": {
    "collapsed": true
   },
   "outputs": [],
   "source": [
    "#this function parses the aseg.stats, lh.aparc.stats and rh.aparc.stats and returns a dictionary\n",
    "\n",
    "def parse_stats(subjects_dir, subject):\n",
    "    from os.path import join, exists\n",
    "    \n",
    "    aseg_file = join(subjects_dir, subject, \"stats\", \"aseg.stats\")\n",
    "    lh_aparc = join(subjects_dir, subject, \"stats\", \"lh.aparc.stats\")\n",
    "    rh_aparc = join(subjects_dir, subject, \"stats\", \"rh.aparc.stats\")\n",
    "    \n",
    "    assert exists(aseg_file), \"aseg file does not exists for %s\" %subject\n",
    "    assert exists(lh_aparc), \"lh aparc file does not exists for %s\" %subject\n",
    "    assert exists(rh_aparc), \"rh aparc file does not exists for %s\" %subject\n",
    "    \n",
    "    def convert_stats_to_json(aseg_file, lh_aparc, rh_aparc):\n",
    "        import pandas as pd\n",
    "        import numpy as np\n",
    "\n",
    "        def extract_other_vals_from_aseg(f):\n",
    "            line_numbers = [18,23,21,33,22]\n",
    "            output = pd.DataFrame()\n",
    "            with open(f,\"r\") as q:\n",
    "                out = q.readlines()\n",
    "                for line in line_numbers:\n",
    "                    sname= out[line].split(\",\")[1][1:]\n",
    "                    vol = out[line].split(\",\")[-2]\n",
    "                    output = output.append(pd.Series({\"StructName\":sname,\"Volume_mm3\":vol}),ignore_index=True)\n",
    "            return output\n",
    "\n",
    "        df = pd.DataFrame(np.genfromtxt(aseg_file,dtype=str),columns=[\"Index\",\n",
    "                                                            \"SegId\",\n",
    "                                                            \"NVoxels\",\n",
    "                                                            \"Volume_mm3\",\n",
    "                                                            \"StructName\",\n",
    "                                                            \"normMean\",\n",
    "                                                            \"normStdDev\",\n",
    "                                                            \"normMin\",\n",
    "                                                            \"normMax\",\n",
    "                                                            \"normRange\"])\n",
    "\n",
    "        df = df.append(extract_other_vals_from_aseg(aseg_file), ignore_index=True)\n",
    "        \n",
    "        aparc_columns = [\"StructName\", \"NumVert\", \"SurfArea\", \"GrayVol\",\n",
    "                         \"ThickAvg\", \"ThickStd\", \"MeanCurv\", \"GausCurv\",\n",
    "                         \"FoldInd\", \"CurvInd\"]\n",
    "        tmp_lh = pd.DataFrame(np.genfromtxt(lh_aparc,dtype=str),columns=aparc_columns)\n",
    "        tmp_lh[\"StructName\"] = \"lh_\"+tmp_lh[\"StructName\"]\n",
    "        tmp_rh = pd.DataFrame(np.genfromtxt(rh_aparc,dtype=str),columns=aparc_columns)\n",
    "        tmp_rh[\"StructName\"] = \"rh_\"+tmp_rh[\"StructName\"]\n",
    "\n",
    "        aseg_melt = pd.melt(df[[\"StructName\",\"Volume_mm3\"]], id_vars=[\"StructName\"])\n",
    "        aseg_melt.rename(columns={\"StructName\": \"name\"},inplace=True)\n",
    "        aseg_melt[\"value\"] = aseg_melt[\"value\"].astype(float)\n",
    "        \n",
    "        lh_aparc_melt = pd.melt(tmp_lh,id_vars=[\"StructName\"])\n",
    "        lh_aparc_melt[\"value\"] = lh_aparc_melt[\"value\"].astype(float)\n",
    "        lh_aparc_melt[\"name\"] = lh_aparc_melt[\"StructName\"]+ \"_\"+lh_aparc_melt[\"variable\"]\n",
    "        \n",
    "        rh_aparc_melt = pd.melt(tmp_rh, id_vars=[\"StructName\"])\n",
    "        rh_aparc_melt[\"value\"] = rh_aparc_melt[\"value\"].astype(float)\n",
    "        rh_aparc_melt[\"name\"] = rh_aparc_melt[\"StructName\"]+ \"_\"+rh_aparc_melt[\"variable\"]\n",
    "        \n",
    "        output = aseg_melt[[\"name\",\n",
    "                            \"value\"]].append(lh_aparc_melt[[\"name\",\n",
    "                                                            \"value\"]],\n",
    "                                             ignore_index=True).append(rh_aparc_melt[[\"name\",\n",
    "                                                                                      \"value\"]],\n",
    "                                                                       ignore_index=True)\n",
    "        outdict = output.to_dict(orient=\"records\")\n",
    "        final_dict = {}\n",
    "        for pair in outdict:\n",
    "            final_dict[pair[\"name\"]] = pair[\"value\"]\n",
    "        return final_dict\n",
    "    \n",
    "    output_dict = convert_stats_to_json(aseg_file, lh_aparc, rh_aparc)\n",
    "    return output_dict\n",
    "    "
   ]
  },
  {
   "cell_type": "code",
   "execution_count": 27,
   "metadata": {
    "collapsed": true
   },
   "outputs": [],
   "source": [
    "# This function creates valid Mindcontrol entries that are saved as .json files. \n",
    "# They can be loaded into the Mindcontrol database later\n",
    "\n",
    "def create_mindcontrol_entries(mindcontrol_base_dir, output_dir, subject, stats):\n",
    "    import os\n",
    "    from nipype.utils.filemanip import save_json\n",
    "    \n",
    "    metric_split = {\"brainmask\": [\"eTIV\", \"CortexVol\", \"TotalGrayVol\"],\n",
    "                    \"wm\": [\"CorticalWhiteMatterVol\",\"WM-hypointensities\", \n",
    "                           \"Right-WM-hypointensities\",\"Left-WM-hypointensities\"],\n",
    "                    \"aparcaseg\":[]}\n",
    "    \n",
    "    volumes = [\"brainmask.nii.gz\", \"wm.nii.gz\", \"aparc+aseg.nii.gz\", \"T1.nii.gz\"]\n",
    "    volumes_list = [os.path.join(output_dir, subject, volume) for volume in volumes]\n",
    "\n",
    "    all_entries = []\n",
    "    \n",
    "    for idx, entry_type in enumerate([\"brainmask\", \"wm\", \"aparcaseg\"]):\n",
    "        entry = {\"entry_type\":entry_type, \n",
    "                 \"subject_id\": subject, \n",
    "                 \"name\": subject}\n",
    "        base_img = os.path.relpath(volumes_list[-1], mindcontrol_base_dir)\n",
    "        overlay_img = os.path.relpath(volumes_list[idx], mindcontrol_base_dir)\n",
    "        entry[\"check_masks\"] = [base_img, overlay_img]\n",
    "        entry[\"metrics\"] = {}\n",
    "        for metric_name in metric_split[entry_type]:\n",
    "            entry[\"metrics\"][metric_name] = stats.pop(metric_name)\n",
    "        if not len(metric_split[entry_type]):\n",
    "            entry[\"metrics\"] = stats\n",
    "        all_entries.append(entry)\n",
    "    \n",
    "    output_json = os.path.abspath(\"mindcontrol_entries.json\")\n",
    "    save_json(output_json, all_entries)\n",
    "    return output_json"
   ]
  },
  {
   "cell_type": "markdown",
   "metadata": {
    "deletable": true,
    "editable": true
   },
   "source": [
    "### Nodes\n",
    "\n",
    "Define the nipype nodes below:"
   ]
  },
  {
   "cell_type": "code",
   "execution_count": 28,
   "metadata": {
    "collapsed": false,
    "deletable": true,
    "editable": true
   },
   "outputs": [],
   "source": [
    "input_node = Node(IdentityInterface(fields=['subject_id',\"subjects_dir\",\n",
    "                                            \"mindcontrol_base_dir\", \"output_dir\"]), name='inputnode')\n",
    "input_node.iterables=(\"subject_id\", subjects)\n",
    "input_node.inputs.subjects_dir = subjects_dir\n",
    "input_node.inputs.mindcontrol_base_dir = mindcontrol_base_dir #this is where start_static_server is running\n",
    "input_node.inputs.output_dir = mindcontrol_outdir #this is in the freesurfer/ directory under the base_dir\n",
    "\n",
    "dg_node=Node(Function(input_names=[\"subjects_dir\", \"subject\", \"volumes\"],\n",
    "                      output_names=[\"volume_paths\"], \n",
    "                      function=data_grabber), \n",
    "             name=\"datagrab\")\n",
    "#dg_node.inputs.subjects_dir = subjects_dir\n",
    "dg_node.inputs.volumes = volumes\n",
    "\n",
    "\n",
    "mriconvert_node = MapNode(MRIConvert(out_type=\"niigz\"), \n",
    "                          iterfield=[\"in_file\"], \n",
    "                          name='convert')\n",
    "\n",
    "get_stats_node = Node(Function(input_names=[\"subjects_dir\", \"subject\"],\n",
    "                               output_names = [\"output_dict\"],\n",
    "                               function=parse_stats), name=\"get_freesurfer_stats\")\n",
    "\n",
    "write_mindcontrol_entries = Node(Function(input_names = [\"mindcontrol_base_dir\",\n",
    "                                                         \"output_dir\",\n",
    "                                                         \"subject\",\n",
    "                                                         \"stats\"],\n",
    "                                          output_names=[\"output_json\"],\n",
    "                                          function=create_mindcontrol_entries), \n",
    "                                 name=\"get_mindcontrol_entries\")\n",
    "\n",
    "datasink_node = Node(DataSink(),\n",
    "                     name='datasink')\n",
    "subst = [('out_file',''),('_subject_id_',''),('_out','')]  + [(\"_convert%d\" % index, \"\") for index in range(len(volumes))] \n",
    "datasink_node.inputs.substitutions = subst"
   ]
  },
  {
   "cell_type": "markdown",
   "metadata": {
    "deletable": true,
    "editable": true
   },
   "source": [
    "### Workflow\n",
    "\n",
    "Connect the nodes of the workflow and run it:"
   ]
  },
  {
   "cell_type": "code",
   "execution_count": 54,
   "metadata": {
    "collapsed": false,
    "deletable": true,
    "editable": true,
    "scrolled": true
   },
   "outputs": [
    {
     "name": "stdout",
     "output_type": "stream",
     "text": [
      "170405-01:55:01,138 workflow INFO:\n",
      "\t Generated workflow graph: /home/jovyan/work/mindcontrol_docs/scratch/MindPrepFS/graph_detailed.dot.png (graph2use=exec, simple_form=True).\n",
      "170405-01:55:01,159 workflow INFO:\n",
      "\t Workflow MindPrepFS settings: ['check', 'execution', 'logging']\n",
      "170405-01:55:01,309 workflow INFO:\n",
      "\t Running serially.\n",
      "170405-01:55:01,312 workflow INFO:\n",
      "\t Executing node datagrab.a1 in dir: /home/jovyan/work/mindcontrol_docs/scratch/MindPrepFS/_subject_id_sub-02/datagrab\n",
      "170405-01:55:01,342 workflow INFO:\n",
      "\t Collecting precomputed outputs\n",
      "170405-01:55:01,407 workflow INFO:\n",
      "\t Executing node datagrab.a0 in dir: /home/jovyan/work/mindcontrol_docs/scratch/MindPrepFS/_subject_id_sub-01/datagrab\n",
      "170405-01:55:01,461 workflow INFO:\n",
      "\t Collecting precomputed outputs\n",
      "170405-01:55:01,535 workflow INFO:\n",
      "\t Executing node get_freesurfer_stats.a1 in dir: /home/jovyan/work/mindcontrol_docs/scratch/MindPrepFS/_subject_id_sub-02/get_freesurfer_stats\n",
      "170405-01:55:01,588 workflow INFO:\n",
      "\t Collecting precomputed outputs\n",
      "170405-01:55:01,624 workflow INFO:\n",
      "\t Executing node get_freesurfer_stats.a0 in dir: /home/jovyan/work/mindcontrol_docs/scratch/MindPrepFS/_subject_id_sub-01/get_freesurfer_stats\n",
      "170405-01:55:01,685 workflow INFO:\n",
      "\t Collecting precomputed outputs\n",
      "170405-01:55:01,752 workflow INFO:\n",
      "\t Executing node get_mindcontrol_entries.a0 in dir: /home/jovyan/work/mindcontrol_docs/scratch/MindPrepFS/_subject_id_sub-01/get_mindcontrol_entries\n",
      "170405-01:55:02,244 workflow INFO:\n",
      "\t Executing node convert.a0 in dir: /home/jovyan/work/mindcontrol_docs/scratch/MindPrepFS/_subject_id_sub-01/convert\n",
      "170405-01:55:02,619 workflow INFO:\n",
      "\t Executing node datasink.a0 in dir: /home/jovyan/work/mindcontrol_docs/scratch/MindPrepFS/_subject_id_sub-01/datasink\n",
      "170405-01:55:02,829 interface INFO:\n",
      "\t sub: /home/jovyan/work/mindcontrol_docs/mindcontrol_base_dir/freesurfer/out_file/_subject_id_sub-01/mindcontrol_entries.json -> /home/jovyan/work/mindcontrol_docs/mindcontrol_base_dir/freesurfer//sub-01/mindcontrol_entries.json\n",
      "170405-01:55:02,853 interface INFO:\n",
      "\t sub: /home/jovyan/work/mindcontrol_docs/mindcontrol_base_dir/freesurfer/out_file/_subject_id_sub-01/_convert0/brainmask_out.nii.gz -> /home/jovyan/work/mindcontrol_docs/mindcontrol_base_dir/freesurfer//sub-01//brainmask.nii.gz\n",
      "170405-01:55:03,40 interface INFO:\n",
      "\t sub: /home/jovyan/work/mindcontrol_docs/mindcontrol_base_dir/freesurfer/out_file/_subject_id_sub-01/_convert1/wm_out.nii.gz -> /home/jovyan/work/mindcontrol_docs/mindcontrol_base_dir/freesurfer//sub-01//wm.nii.gz\n",
      "170405-01:55:03,143 interface INFO:\n",
      "\t sub: /home/jovyan/work/mindcontrol_docs/mindcontrol_base_dir/freesurfer/out_file/_subject_id_sub-01/_convert2/aparc+aseg_out.nii.gz -> /home/jovyan/work/mindcontrol_docs/mindcontrol_base_dir/freesurfer//sub-01//aparc+aseg.nii.gz\n",
      "170405-01:55:03,268 interface INFO:\n",
      "\t sub: /home/jovyan/work/mindcontrol_docs/mindcontrol_base_dir/freesurfer/out_file/_subject_id_sub-01/_convert3/T1_out.nii.gz -> /home/jovyan/work/mindcontrol_docs/mindcontrol_base_dir/freesurfer//sub-01//T1.nii.gz\n",
      "170405-01:55:03,616 workflow INFO:\n",
      "\t Executing node convert.a1 in dir: /home/jovyan/work/mindcontrol_docs/scratch/MindPrepFS/_subject_id_sub-02/convert\n",
      "170405-01:55:03,910 workflow INFO:\n",
      "\t Executing node get_mindcontrol_entries.a1 in dir: /home/jovyan/work/mindcontrol_docs/scratch/MindPrepFS/_subject_id_sub-02/get_mindcontrol_entries\n",
      "170405-01:55:04,232 workflow INFO:\n",
      "\t Executing node datasink.a1 in dir: /home/jovyan/work/mindcontrol_docs/scratch/MindPrepFS/_subject_id_sub-02/datasink\n",
      "170405-01:55:04,431 interface INFO:\n",
      "\t sub: /home/jovyan/work/mindcontrol_docs/mindcontrol_base_dir/freesurfer/out_file/_subject_id_sub-02/mindcontrol_entries.json -> /home/jovyan/work/mindcontrol_docs/mindcontrol_base_dir/freesurfer//sub-02/mindcontrol_entries.json\n",
      "170405-01:55:04,463 interface INFO:\n",
      "\t sub: /home/jovyan/work/mindcontrol_docs/mindcontrol_base_dir/freesurfer/out_file/_subject_id_sub-02/_convert0/brainmask_out.nii.gz -> /home/jovyan/work/mindcontrol_docs/mindcontrol_base_dir/freesurfer//sub-02//brainmask.nii.gz\n",
      "170405-01:55:04,688 interface INFO:\n",
      "\t sub: /home/jovyan/work/mindcontrol_docs/mindcontrol_base_dir/freesurfer/out_file/_subject_id_sub-02/_convert1/wm_out.nii.gz -> /home/jovyan/work/mindcontrol_docs/mindcontrol_base_dir/freesurfer//sub-02//wm.nii.gz\n",
      "170405-01:55:04,802 interface INFO:\n",
      "\t sub: /home/jovyan/work/mindcontrol_docs/mindcontrol_base_dir/freesurfer/out_file/_subject_id_sub-02/_convert2/aparc+aseg_out.nii.gz -> /home/jovyan/work/mindcontrol_docs/mindcontrol_base_dir/freesurfer//sub-02//aparc+aseg.nii.gz\n",
      "170405-01:55:04,896 interface INFO:\n",
      "\t sub: /home/jovyan/work/mindcontrol_docs/mindcontrol_base_dir/freesurfer/out_file/_subject_id_sub-02/_convert3/T1_out.nii.gz -> /home/jovyan/work/mindcontrol_docs/mindcontrol_base_dir/freesurfer//sub-02//T1.nii.gz\n"
     ]
    },
    {
     "data": {
      "text/plain": [
       "<networkx.classes.digraph.DiGraph at 0x7f33143e06a0>"
      ]
     },
     "execution_count": 54,
     "metadata": {},
     "output_type": "execute_result"
    }
   ],
   "source": [
    "wf = Workflow(name=\"MindPrepFS\")\n",
    "wf.base_dir = workflow_working_dir\n",
    "wf.connect(input_node,\"subject_id\", dg_node,\"subject\")\n",
    "wf.connect(input_node,\"subjects_dir\", dg_node, \"subjects_dir\")\n",
    "wf.connect(input_node, \"subject_id\", get_stats_node, \"subject\")\n",
    "wf.connect(input_node, \"subjects_dir\", get_stats_node, \"subjects_dir\")\n",
    "wf.connect(input_node, \"subject_id\", write_mindcontrol_entries, \"subject\")\n",
    "wf.connect(input_node, \"mindcontrol_base_dir\", write_mindcontrol_entries, \"mindcontrol_base_dir\")\n",
    "wf.connect(input_node, \"output_dir\", write_mindcontrol_entries, \"output_dir\")\n",
    "wf.connect(get_stats_node, \"output_dict\", write_mindcontrol_entries, \"stats\")\n",
    "wf.connect(input_node, \"output_dir\", datasink_node, \"base_directory\")\n",
    "wf.connect(dg_node,\"volume_paths\", mriconvert_node, \"in_file\")\n",
    "wf.connect(mriconvert_node,'out_file',datasink_node,'out_file')\n",
    "wf.connect(write_mindcontrol_entries, \"output_json\", datasink_node, \"out_file.@json\")\n",
    "wf.write_graph(graph2use='exec')\n",
    "wf.run()"
   ]
  },
  {
   "cell_type": "markdown",
   "metadata": {},
   "source": [
    "List the files in one of the subjects'd folders to make sure everything is there:"
   ]
  },
  {
   "cell_type": "code",
   "execution_count": 56,
   "metadata": {
    "collapsed": false
   },
   "outputs": [
    {
     "data": {
      "text/plain": [
       "['aparc+aseg.nii.gz',\n",
       " 'brainmask.nii.gz',\n",
       " 'mindcontrol_entries.json',\n",
       " 'T1.nii.gz',\n",
       " 'wm.nii.gz']"
      ]
     },
     "execution_count": 56,
     "metadata": {},
     "output_type": "execute_result"
    }
   ],
   "source": [
    "os.listdir(os.path.join(mindcontrol_outdir,subjects[0]))"
   ]
  },
  {
   "cell_type": "markdown",
   "metadata": {},
   "source": [
    "Make a graph of our workflow:"
   ]
  },
  {
   "cell_type": "code",
   "execution_count": 53,
   "metadata": {
    "collapsed": false,
    "deletable": true,
    "editable": true
   },
   "outputs": [
    {
     "data": {
      "image/png": "[encoded data removed]",
      "text/plain": [
       "<IPython.core.display.Image object>"
      ]
     },
     "execution_count": 53,
     "metadata": {},
     "output_type": "execute_result"
    }
   ],
   "source": [
    "Image(os.path.join(workflow_working_dir, 'MindPrepFS/graph_detailed.dot.png'))"
   ]
  },
  {
   "cell_type": "markdown",
   "metadata": {},
   "source": [
    "## Load JSON entries into the Mindcontrol database:"
   ]
  },
  {
   "cell_type": "code",
   "execution_count": 6,
   "metadata": {
    "collapsed": true
   },
   "outputs": [],
   "source": [
    "def get_collection(port=3001):\n",
    "    from pymongo import MongoClient\n",
    "    client = MongoClient(\"localhost\", port)\n",
    "    db =  client.meteor\n",
    "    collection = db.subjects\n",
    "    return collection, client"
   ]
  },
  {
   "cell_type": "code",
   "execution_count": 30,
   "metadata": {
    "collapsed": false
   },
   "outputs": [],
   "source": [
    "#import a json file reader\n",
    "from nipype.utils.filemanip import load_json\n",
    "\n",
    "#get the mongo database collection\n",
    "coll, cli = get_collection()\n",
    "\n",
    "#for subject's entry file, load the data and insert or update it into the database\n",
    "for entry_file in glob(os.path.join(mindcontrol_outdir,\"*\",\"mindcontrol_entries.json\")):\n",
    "    data = load_json(entry_file)\n",
    "    for d in data:\n",
    "        name, entry_type = d[\"name\"], d[\"entry_type\"]\n",
    "        query = {\"name\": name, \"entry_type\": entry_type}\n",
    "        res = coll.find_one(query)\n",
    "        #if the entry for a subject/entry_type does not exist, insert it:\n",
    "        if not res:\n",
    "            coll.insert_one(d)\n",
    "        #if the entry exists, simply update it\n",
    "        else:\n",
    "            coll.update_one(query, {\"$set\": d})\n",
    "        \n",
    "    "
   ]
  },
  {
   "cell_type": "markdown",
   "metadata": {},
   "source": [
    "Navigate to http://localhost:3000, You should now see something like:\n",
    "    \n",
    "![](images/freesurfer_instance.png)"
   ]
  },
  {
   "cell_type": "markdown",
   "metadata": {},
   "source": [
    "## Applying painter edits to files"
   ]
  },
  {
   "cell_type": "markdown",
   "metadata": {},
   "source": [
    "Open the QC viewer of a Brainmask file (click on an entry in the Freesurfer ID column), sign in, and click on the Painter pencil icon. I zoomed in (using alt+left click and drag) and erased an arbitrary chunk of voxels of the brainmask, and also logged a point at the center of my erased blob (will be used to plot later):\n",
    "\n",
    "![](images/paint_brainmask.png)\n",
    "\n",
    "Remember to hit \"Save\" when you are done. Now we will load the world coordinates that we painted and apply them to the brainmask file:"
   ]
  },
  {
   "cell_type": "markdown",
   "metadata": {},
   "source": [
    "#### Some more imports"
   ]
  },
  {
   "cell_type": "code",
   "execution_count": 32,
   "metadata": {
    "collapsed": true
   },
   "outputs": [],
   "source": [
    "import nibabel as nib\n",
    "from os.path import join, exists, split\n",
    "from dipy.tracking import utils\n",
    "import numpy as np"
   ]
  },
  {
   "cell_type": "markdown",
   "metadata": {},
   "source": [
    "#### function to load the nifti data using a database query"
   ]
  },
  {
   "cell_type": "code",
   "execution_count": 39,
   "metadata": {
    "collapsed": true
   },
   "outputs": [],
   "source": [
    "def get_segmentation_mask(db, query,mindcontrol_base_dir):\n",
    "    cursor = db.find(query)\n",
    "    results = []\n",
    "    for item in cursor:\n",
    "        results.append(item)\n",
    "    \n",
    "    assert(len(results) == 1)\n",
    "    subject = results[0]\n",
    "\n",
    "    return nib.load(join(mindcontrol_base_dir,subject[\"check_masks\"][1]))"
   ]
  },
  {
   "cell_type": "markdown",
   "metadata": {},
   "source": [
    "#### Converts world coordinates to numpy matrix indices"
   ]
  },
  {
   "cell_type": "code",
   "execution_count": 118,
   "metadata": {
    "collapsed": true
   },
   "outputs": [],
   "source": [
    "def convert_to_indices(streamline, aff, img):\n",
    "    \n",
    "    topoints = lambda x : np.array([[m[\"x\"], m[\"y\"], m[\"z\"]] for m in x[\"world_coor\"]])\n",
    "    points_orig = topoints(streamline)\n",
    "    points_nifti_space = list(utils.move_streamlines([points_orig], aff, input_space=aff))[0]\n",
    "    from dipy.tracking._utils import _to_voxel_coordinates, _mapping_to_voxel\n",
    "    lin_T, offset = _mapping_to_voxel(aff, None)\n",
    "    idx = _to_voxel_coordinates(points_orig, lin_T, offset)\n",
    "    return points_nifti_space, idx"
   ]
  },
  {
   "cell_type": "markdown",
   "metadata": {},
   "source": [
    "#### Record the indices of points to paint and their new paint value"
   ]
  },
  {
   "cell_type": "code",
   "execution_count": 126,
   "metadata": {
    "collapsed": false
   },
   "outputs": [],
   "source": [
    "def get_points_to_paint(drawing, aff, img): \n",
    "    import pandas as pd\n",
    "    df = pd.DataFrame()\n",
    "    data = img.get_data()\n",
    "    for d in drawing:\n",
    "        if not \"paintValue\" in d.keys():\n",
    "            continue\n",
    "        pv = d[\"paintValue\"]\n",
    "        if len(d[\"world_coor\"]):\n",
    "            points_nii_space, trans_points = convert_to_indices(d, aff, img)\n",
    "            tmp = []\n",
    "            for i,ni in enumerate(trans_points):\n",
    "                to_append = {\"x\": ni[0], \"y\":ni[1], \"z\": ni[2], \"val\": pv}\n",
    "\n",
    "                #validate affine. \n",
    "                if len(d[\"world_coor\"]) == len(d[\"matrix_coor\"]):\n",
    "                    old_val_client = d[\"matrix_coor\"][i][\"old_val\"]\n",
    "                    true_val = data[ni[0], ni[1], ni[2]]\n",
    "                    assert old_val_client == true_val, \"affine mismatch!\"\n",
    "\n",
    "                tmp.append(to_append)\n",
    "            df = df.append(pd.DataFrame(tmp), ignore_index=True)\n",
    "    if df.shape[0]:\n",
    "        df.drop_duplicates(inplace=True)\n",
    "\n",
    "    return df"
   ]
  },
  {
   "cell_type": "markdown",
   "metadata": {},
   "source": [
    "#### Final function to read the database for coordinates, load the image data, apply the painter edits, and save the image"
   ]
  },
  {
   "cell_type": "code",
   "execution_count": 120,
   "metadata": {
    "collapsed": true
   },
   "outputs": [],
   "source": [
    "def create_paint_volume(mongo_port, query,mindcontrol_base_dir, outpath):\n",
    "    coll, cli = get_collection(mongo_port)\n",
    "    mask_img = get_segmentation_mask(coll,query, mindcontrol_base_dir)\n",
    "    aff = mask_img.affine\n",
    "\n",
    "    p1 = get_points_to_paint(coll.find_one(query)[\"painters\"], aff, mask_img)\n",
    "\n",
    "    data = mask_img.get_data()\n",
    "    for idx, row in p1.iterrows():\n",
    "        paint_value = row['val']\n",
    "        x,y,z = row['x'], row['y'], row['z']\n",
    "        data[x][y][z] = paint_value\n",
    "\n",
    "    painted_image = nib.nifti1.Nifti1Image(data,aff,mask_img.header)\n",
    "    painted_image.to_filename(outpath)\n",
    "    return outpath"
   ]
  },
  {
   "cell_type": "markdown",
   "metadata": {},
   "source": [
    "#### Run on sub-02:"
   ]
  },
  {
   "cell_type": "code",
   "execution_count": 121,
   "metadata": {
    "collapsed": false
   },
   "outputs": [],
   "source": [
    "outpath = create_paint_volume(3001, {\"subject_id\": \"sub-02\", \n",
    "                           \"entry_type\":\"brainmask\"},\n",
    "                    mindcontrol_base_dir,\n",
    "                   os.path.abspath(\"./mindcontrol_base_dir/freesurfer/sub-02/brainmask_edited.nii.gz\"))"
   ]
  },
  {
   "cell_type": "markdown",
   "metadata": {},
   "source": [
    "Lets make sure this worked by plotting in nilearn"
   ]
  },
  {
   "cell_type": "code",
   "execution_count": 122,
   "metadata": {
    "collapsed": false
   },
   "outputs": [],
   "source": [
    "entry = coll.find_one({\"subject_id\": \"sub-02\", \"entry_type\":\"brainmask\"})\n",
    "idx = entry[\"loggedPoints\"][0][\"world_coor\"]"
   ]
  },
  {
   "cell_type": "code",
   "execution_count": 123,
   "metadata": {
    "collapsed": false
   },
   "outputs": [],
   "source": [
    "from nilearn.plotting import plot_roi"
   ]
  },
  {
   "cell_type": "code",
   "execution_count": 124,
   "metadata": {
    "collapsed": false
   },
   "outputs": [
    {
     "data": {
      "text/plain": [
       "<nilearn.plotting.displays.YSlicer at 0x112aeb908>"
      ]
     },
     "execution_count": 124,
     "metadata": {},
     "output_type": "execute_result"
    },
    {
     "data": {
      "image/png": "[encoded data removed]",
      "text/plain": [
       "<matplotlib.figure.Figure at 0x112584710>"
      ]
     },
     "metadata": {},
     "output_type": "display_data"
    }
   ],
   "source": [
    "fig,ax = subplots(1,1,figsize=(10,10))\n",
    "plot_roi(outpath, \"./mindcontrol_base_dir/freesurfer/sub-02/T1.nii.gz\", \n",
    "         cut_coords=[idx[\"y\"]], display_mode=\"y\", axes=ax)"
   ]
  },
  {
   "cell_type": "code",
   "execution_count": null,
   "metadata": {
    "collapsed": true
   },
   "outputs": [],
   "source": []
  }
 ],
 "metadata": {
  "kernelspec": {
   "display_name": "Python 3",
   "language": "python",
   "name": "python3"
  },
  "language_info": {
   "codemirror_mode": {
    "name": "ipython",
    "version": 3
   },
   "file_extension": ".py",
   "mimetype": "text/x-python",
   "name": "python",
   "nbconvert_exporter": "python",
   "pygments_lexer": "ipython3",
   "version": "3.6.0"
  }
 },
 "nbformat": 4,
 "nbformat_minor": 2
}
